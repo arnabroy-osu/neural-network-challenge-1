{
  "cells": [
    {
      "cell_type": "markdown",
      "metadata": {
        "id": "T7ZNhGcW6q6r"
      },
      "source": [
        "# Student Loan Risk with Deep Learning"
      ]
    },
    {
      "cell_type": "code",
      "execution_count": 1,
      "metadata": {
        "id": "0otrXpJc6q6u"
      },
      "outputs": [
        {
          "name": "stdout",
          "output_type": "stream",
          "text": [
            "WARNING:tensorflow:From c:\\Users\\arnab\\anaconda3\\Lib\\site-packages\\keras\\src\\losses.py:2976: The name tf.losses.sparse_softmax_cross_entropy is deprecated. Please use tf.compat.v1.losses.sparse_softmax_cross_entropy instead.\n",
            "\n"
          ]
        }
      ],
      "source": [
        "# Imports\n",
        "import pandas as pd\n",
        "import tensorflow as tf\n",
        "from tensorflow.keras.layers import Dense\n",
        "from tensorflow.keras.models import Sequential\n",
        "from sklearn.model_selection import train_test_split\n",
        "from sklearn.preprocessing import StandardScaler\n",
        "from sklearn.metrics import classification_report\n",
        "from pathlib import Path"
      ]
    },
    {
      "cell_type": "markdown",
      "metadata": {
        "id": "OpV4Y-3Z6q6w"
      },
      "source": [
        "---\n",
        "\n",
        "## Prepare the data to be used on a neural network model"
      ]
    },
    {
      "cell_type": "markdown",
      "metadata": {
        "id": "TUuSzp2l6q6w"
      },
      "source": [
        "### Step 1: Read the `student-loans.csv` file into a Pandas DataFrame. Review the DataFrame, looking for columns that could eventually define your features and target variables.   "
      ]
    },
    {
      "cell_type": "code",
      "execution_count": 2,
      "metadata": {
        "colab": {
          "base_uri": "https://localhost:8080/",
          "height": 226
        },
        "id": "G65km1KD6q6x",
        "outputId": "93d12d8d-c415-4017-8452-5b4966e4dde5"
      },
      "outputs": [
        {
          "data": {
            "text/html": [
              "<div>\n",
              "<style scoped>\n",
              "    .dataframe tbody tr th:only-of-type {\n",
              "        vertical-align: middle;\n",
              "    }\n",
              "\n",
              "    .dataframe tbody tr th {\n",
              "        vertical-align: top;\n",
              "    }\n",
              "\n",
              "    .dataframe thead th {\n",
              "        text-align: right;\n",
              "    }\n",
              "</style>\n",
              "<table border=\"1\" class=\"dataframe\">\n",
              "  <thead>\n",
              "    <tr style=\"text-align: right;\">\n",
              "      <th></th>\n",
              "      <th>payment_history</th>\n",
              "      <th>location_parameter</th>\n",
              "      <th>stem_degree_score</th>\n",
              "      <th>gpa_ranking</th>\n",
              "      <th>alumni_success</th>\n",
              "      <th>study_major_code</th>\n",
              "      <th>time_to_completion</th>\n",
              "      <th>finance_workshop_score</th>\n",
              "      <th>cohort_ranking</th>\n",
              "      <th>total_loan_score</th>\n",
              "      <th>financial_aid_score</th>\n",
              "      <th>credit_ranking</th>\n",
              "    </tr>\n",
              "  </thead>\n",
              "  <tbody>\n",
              "    <tr>\n",
              "      <th>0</th>\n",
              "      <td>7.4</td>\n",
              "      <td>0.70</td>\n",
              "      <td>0.00</td>\n",
              "      <td>1.9</td>\n",
              "      <td>0.076</td>\n",
              "      <td>11.0</td>\n",
              "      <td>34.0</td>\n",
              "      <td>0.9978</td>\n",
              "      <td>3.51</td>\n",
              "      <td>0.56</td>\n",
              "      <td>9.4</td>\n",
              "      <td>0</td>\n",
              "    </tr>\n",
              "    <tr>\n",
              "      <th>1</th>\n",
              "      <td>7.8</td>\n",
              "      <td>0.88</td>\n",
              "      <td>0.00</td>\n",
              "      <td>2.6</td>\n",
              "      <td>0.098</td>\n",
              "      <td>25.0</td>\n",
              "      <td>67.0</td>\n",
              "      <td>0.9968</td>\n",
              "      <td>3.20</td>\n",
              "      <td>0.68</td>\n",
              "      <td>9.8</td>\n",
              "      <td>0</td>\n",
              "    </tr>\n",
              "    <tr>\n",
              "      <th>2</th>\n",
              "      <td>7.8</td>\n",
              "      <td>0.76</td>\n",
              "      <td>0.04</td>\n",
              "      <td>2.3</td>\n",
              "      <td>0.092</td>\n",
              "      <td>15.0</td>\n",
              "      <td>54.0</td>\n",
              "      <td>0.9970</td>\n",
              "      <td>3.26</td>\n",
              "      <td>0.65</td>\n",
              "      <td>9.8</td>\n",
              "      <td>0</td>\n",
              "    </tr>\n",
              "    <tr>\n",
              "      <th>3</th>\n",
              "      <td>11.2</td>\n",
              "      <td>0.28</td>\n",
              "      <td>0.56</td>\n",
              "      <td>1.9</td>\n",
              "      <td>0.075</td>\n",
              "      <td>17.0</td>\n",
              "      <td>60.0</td>\n",
              "      <td>0.9980</td>\n",
              "      <td>3.16</td>\n",
              "      <td>0.58</td>\n",
              "      <td>9.8</td>\n",
              "      <td>1</td>\n",
              "    </tr>\n",
              "    <tr>\n",
              "      <th>4</th>\n",
              "      <td>7.4</td>\n",
              "      <td>0.70</td>\n",
              "      <td>0.00</td>\n",
              "      <td>1.9</td>\n",
              "      <td>0.076</td>\n",
              "      <td>11.0</td>\n",
              "      <td>34.0</td>\n",
              "      <td>0.9978</td>\n",
              "      <td>3.51</td>\n",
              "      <td>0.56</td>\n",
              "      <td>9.4</td>\n",
              "      <td>0</td>\n",
              "    </tr>\n",
              "  </tbody>\n",
              "</table>\n",
              "</div>"
            ],
            "text/plain": [
              "   payment_history  location_parameter  stem_degree_score  gpa_ranking  \\\n",
              "0              7.4                0.70               0.00          1.9   \n",
              "1              7.8                0.88               0.00          2.6   \n",
              "2              7.8                0.76               0.04          2.3   \n",
              "3             11.2                0.28               0.56          1.9   \n",
              "4              7.4                0.70               0.00          1.9   \n",
              "\n",
              "   alumni_success  study_major_code  time_to_completion  \\\n",
              "0           0.076              11.0                34.0   \n",
              "1           0.098              25.0                67.0   \n",
              "2           0.092              15.0                54.0   \n",
              "3           0.075              17.0                60.0   \n",
              "4           0.076              11.0                34.0   \n",
              "\n",
              "   finance_workshop_score  cohort_ranking  total_loan_score  \\\n",
              "0                  0.9978            3.51              0.56   \n",
              "1                  0.9968            3.20              0.68   \n",
              "2                  0.9970            3.26              0.65   \n",
              "3                  0.9980            3.16              0.58   \n",
              "4                  0.9978            3.51              0.56   \n",
              "\n",
              "   financial_aid_score  credit_ranking  \n",
              "0                  9.4               0  \n",
              "1                  9.8               0  \n",
              "2                  9.8               0  \n",
              "3                  9.8               1  \n",
              "4                  9.4               0  "
            ]
          },
          "execution_count": 2,
          "metadata": {},
          "output_type": "execute_result"
        }
      ],
      "source": [
        "# Read the csv into a Pandas DataFrame\n",
        "file_path = \"https://static.bc-edx.com/ai/ail-v-1-0/m18/lms/datasets/student-loans.csv\"\n",
        "loans_df = pd.read_csv(file_path)\n",
        "\n",
        "# Review the DataFrame\n",
        "loans_df.head()"
      ]
    },
    {
      "cell_type": "code",
      "execution_count": 3,
      "metadata": {
        "colab": {
          "base_uri": "https://localhost:8080/"
        },
        "id": "K8ZYB8wx6q6x",
        "outputId": "b509fc34-4488-406e-e451-2069fec37371"
      },
      "outputs": [
        {
          "data": {
            "text/plain": [
              "payment_history           float64\n",
              "location_parameter        float64\n",
              "stem_degree_score         float64\n",
              "gpa_ranking               float64\n",
              "alumni_success            float64\n",
              "study_major_code          float64\n",
              "time_to_completion        float64\n",
              "finance_workshop_score    float64\n",
              "cohort_ranking            float64\n",
              "total_loan_score          float64\n",
              "financial_aid_score       float64\n",
              "credit_ranking              int64\n",
              "dtype: object"
            ]
          },
          "execution_count": 3,
          "metadata": {},
          "output_type": "execute_result"
        }
      ],
      "source": [
        "# Review the data types associated with the columns\n",
        "loans_df.dtypes"
      ]
    },
    {
      "cell_type": "code",
      "execution_count": 4,
      "metadata": {
        "colab": {
          "base_uri": "https://localhost:8080/"
        },
        "id": "9P8aX-dW75JO",
        "outputId": "63251fa8-5ac1-4112-c2f7-bc5d97ea8491"
      },
      "outputs": [
        {
          "data": {
            "text/plain": [
              "credit_ranking\n",
              "1    855\n",
              "0    744\n",
              "Name: count, dtype: int64"
            ]
          },
          "execution_count": 4,
          "metadata": {},
          "output_type": "execute_result"
        }
      ],
      "source": [
        "# Check the credit_ranking value counts\n",
        "loans_df[\"credit_ranking\"].value_counts()"
      ]
    },
    {
      "cell_type": "markdown",
      "metadata": {
        "id": "R6vbZeDH6q6y"
      },
      "source": [
        "### Step 2: Using the preprocessed data, create the features (`X`) and target (`y`) datasets. The target dataset should be defined by the preprocessed DataFrame column “credit_ranking”. The remaining columns should define the features dataset."
      ]
    },
    {
      "cell_type": "code",
      "execution_count": 5,
      "metadata": {
        "colab": {
          "base_uri": "https://localhost:8080/"
        },
        "id": "Q5eVAP5M6q6y",
        "outputId": "89728bbf-6930-4573-a126-9f1b66ed8859"
      },
      "outputs": [
        {
          "data": {
            "text/plain": [
              "0    0\n",
              "1    0\n",
              "2    0\n",
              "3    1\n",
              "4    0\n",
              "Name: credit_ranking, dtype: int64"
            ]
          },
          "execution_count": 5,
          "metadata": {},
          "output_type": "execute_result"
        }
      ],
      "source": [
        "# Define the target set y using the credit_ranking column\n",
        "y = loans_df['credit_ranking']\n",
        "\n",
        "# Display a sample of y\n",
        "y.head()"
      ]
    },
    {
      "cell_type": "code",
      "execution_count": 6,
      "metadata": {
        "colab": {
          "base_uri": "https://localhost:8080/",
          "height": 226
        },
        "id": "IIkrD2Sn6q6z",
        "outputId": "ce07c4a3-fb81-4657-d11e-ec85ae8554c9"
      },
      "outputs": [
        {
          "data": {
            "text/html": [
              "<div>\n",
              "<style scoped>\n",
              "    .dataframe tbody tr th:only-of-type {\n",
              "        vertical-align: middle;\n",
              "    }\n",
              "\n",
              "    .dataframe tbody tr th {\n",
              "        vertical-align: top;\n",
              "    }\n",
              "\n",
              "    .dataframe thead th {\n",
              "        text-align: right;\n",
              "    }\n",
              "</style>\n",
              "<table border=\"1\" class=\"dataframe\">\n",
              "  <thead>\n",
              "    <tr style=\"text-align: right;\">\n",
              "      <th></th>\n",
              "      <th>payment_history</th>\n",
              "      <th>location_parameter</th>\n",
              "      <th>stem_degree_score</th>\n",
              "      <th>gpa_ranking</th>\n",
              "      <th>alumni_success</th>\n",
              "      <th>study_major_code</th>\n",
              "      <th>time_to_completion</th>\n",
              "      <th>finance_workshop_score</th>\n",
              "      <th>cohort_ranking</th>\n",
              "      <th>total_loan_score</th>\n",
              "      <th>financial_aid_score</th>\n",
              "    </tr>\n",
              "  </thead>\n",
              "  <tbody>\n",
              "    <tr>\n",
              "      <th>0</th>\n",
              "      <td>7.4</td>\n",
              "      <td>0.70</td>\n",
              "      <td>0.00</td>\n",
              "      <td>1.9</td>\n",
              "      <td>0.076</td>\n",
              "      <td>11.0</td>\n",
              "      <td>34.0</td>\n",
              "      <td>0.9978</td>\n",
              "      <td>3.51</td>\n",
              "      <td>0.56</td>\n",
              "      <td>9.4</td>\n",
              "    </tr>\n",
              "    <tr>\n",
              "      <th>1</th>\n",
              "      <td>7.8</td>\n",
              "      <td>0.88</td>\n",
              "      <td>0.00</td>\n",
              "      <td>2.6</td>\n",
              "      <td>0.098</td>\n",
              "      <td>25.0</td>\n",
              "      <td>67.0</td>\n",
              "      <td>0.9968</td>\n",
              "      <td>3.20</td>\n",
              "      <td>0.68</td>\n",
              "      <td>9.8</td>\n",
              "    </tr>\n",
              "    <tr>\n",
              "      <th>2</th>\n",
              "      <td>7.8</td>\n",
              "      <td>0.76</td>\n",
              "      <td>0.04</td>\n",
              "      <td>2.3</td>\n",
              "      <td>0.092</td>\n",
              "      <td>15.0</td>\n",
              "      <td>54.0</td>\n",
              "      <td>0.9970</td>\n",
              "      <td>3.26</td>\n",
              "      <td>0.65</td>\n",
              "      <td>9.8</td>\n",
              "    </tr>\n",
              "    <tr>\n",
              "      <th>3</th>\n",
              "      <td>11.2</td>\n",
              "      <td>0.28</td>\n",
              "      <td>0.56</td>\n",
              "      <td>1.9</td>\n",
              "      <td>0.075</td>\n",
              "      <td>17.0</td>\n",
              "      <td>60.0</td>\n",
              "      <td>0.9980</td>\n",
              "      <td>3.16</td>\n",
              "      <td>0.58</td>\n",
              "      <td>9.8</td>\n",
              "    </tr>\n",
              "    <tr>\n",
              "      <th>4</th>\n",
              "      <td>7.4</td>\n",
              "      <td>0.70</td>\n",
              "      <td>0.00</td>\n",
              "      <td>1.9</td>\n",
              "      <td>0.076</td>\n",
              "      <td>11.0</td>\n",
              "      <td>34.0</td>\n",
              "      <td>0.9978</td>\n",
              "      <td>3.51</td>\n",
              "      <td>0.56</td>\n",
              "      <td>9.4</td>\n",
              "    </tr>\n",
              "  </tbody>\n",
              "</table>\n",
              "</div>"
            ],
            "text/plain": [
              "   payment_history  location_parameter  stem_degree_score  gpa_ranking  \\\n",
              "0              7.4                0.70               0.00          1.9   \n",
              "1              7.8                0.88               0.00          2.6   \n",
              "2              7.8                0.76               0.04          2.3   \n",
              "3             11.2                0.28               0.56          1.9   \n",
              "4              7.4                0.70               0.00          1.9   \n",
              "\n",
              "   alumni_success  study_major_code  time_to_completion  \\\n",
              "0           0.076              11.0                34.0   \n",
              "1           0.098              25.0                67.0   \n",
              "2           0.092              15.0                54.0   \n",
              "3           0.075              17.0                60.0   \n",
              "4           0.076              11.0                34.0   \n",
              "\n",
              "   finance_workshop_score  cohort_ranking  total_loan_score  \\\n",
              "0                  0.9978            3.51              0.56   \n",
              "1                  0.9968            3.20              0.68   \n",
              "2                  0.9970            3.26              0.65   \n",
              "3                  0.9980            3.16              0.58   \n",
              "4                  0.9978            3.51              0.56   \n",
              "\n",
              "   financial_aid_score  \n",
              "0                  9.4  \n",
              "1                  9.8  \n",
              "2                  9.8  \n",
              "3                  9.8  \n",
              "4                  9.4  "
            ]
          },
          "execution_count": 6,
          "metadata": {},
          "output_type": "execute_result"
        }
      ],
      "source": [
        "# Define features set X by selecting all columns and then dropping column 'credit_ranking'\n",
        "X = loans_df.copy()\n",
        "X = X.drop(\"credit_ranking\", axis=1)\n",
        "\n",
        "# Review the features DataFrame\n",
        "X.head()"
      ]
    },
    {
      "cell_type": "markdown",
      "metadata": {
        "id": "QmM9c-tj6q6z"
      },
      "source": [
        "### Step 3: Split the features and target sets into training and testing datasets.\n"
      ]
    },
    {
      "cell_type": "code",
      "execution_count": 7,
      "metadata": {
        "id": "OD7xwU_96q6z"
      },
      "outputs": [],
      "source": [
        "# Split the preprocessed data into a training and testing dataset\n",
        "# Assign the function a random_state equal to 1\n",
        "\n",
        "X_train, X_test, y_train, y_test = train_test_split(X, y, random_state=1)\n"
      ]
    },
    {
      "cell_type": "markdown",
      "metadata": {
        "id": "G9i6DHY06q6z"
      },
      "source": [
        "### Step 4: Use scikit-learn's `StandardScaler` to scale the features data."
      ]
    },
    {
      "cell_type": "code",
      "execution_count": 8,
      "metadata": {
        "id": "BzD3z20m6q6z"
      },
      "outputs": [],
      "source": [
        "# Create a StandardScaler instance\n",
        "Standard_Scaler = StandardScaler()\n",
        "\n",
        "# Fit the scaler to the features training dataset\n",
        "X_train_scaled = Standard_Scaler.fit_transform(X_train)\n",
        "X_test_scaled = Standard_Scaler.transform(X_test)\n"
      ]
    },
    {
      "cell_type": "markdown",
      "metadata": {
        "id": "CZzVDjba6q6z"
      },
      "source": [
        "---\n",
        "\n",
        "## Compile and Evaluate a Model Using a Neural Network"
      ]
    },
    {
      "cell_type": "markdown",
      "metadata": {
        "id": "m-pSux4Q6q60"
      },
      "source": [
        "### Step 1: Create a deep neural network by assigning the number of input features, the number of layers, and the number of neurons on each layer using Tensorflow’s Keras.\n",
        "\n",
        "> **Hint** You can start with a two-layer deep neural network model that uses the `relu` activation function for both layers.\n"
      ]
    },
    {
      "cell_type": "code",
      "execution_count": 9,
      "metadata": {
        "colab": {
          "base_uri": "https://localhost:8080/"
        },
        "id": "t5C94FCd6q60",
        "outputId": "cbf05783-2f56-4745-cd33-649a6152e510"
      },
      "outputs": [
        {
          "name": "stdout",
          "output_type": "stream",
          "text": [
            "Number of features:  11\n"
          ]
        }
      ],
      "source": [
        "# Define the the number of inputs (features) to the model\n",
        "input_nodes = len(X.columns)\n",
        "\n",
        "# Review the number of features\n",
        "print(f\"Number of features: \", input_nodes)\n"
      ]
    },
    {
      "cell_type": "code",
      "execution_count": 10,
      "metadata": {
        "id": "c_KXDLkF6q60"
      },
      "outputs": [],
      "source": [
        "# Define the number of hidden nodes for the first hidden layer\n",
        "Nodes_hidden_layer_1 = 6\n",
        "\n",
        "# Define the number of hidden nodes for the second hidden layer\n",
        "Nodes_hidden_layer_2 = 3\n",
        "\n",
        "\n",
        "# Define the number of neurons in the output layer\n",
        "Output_nodes = 1\n"
      ]
    },
    {
      "cell_type": "code",
      "execution_count": 11,
      "metadata": {
        "id": "63UdFncw6q60"
      },
      "outputs": [
        {
          "name": "stdout",
          "output_type": "stream",
          "text": [
            "WARNING:tensorflow:From c:\\Users\\arnab\\anaconda3\\Lib\\site-packages\\keras\\src\\backend.py:873: The name tf.get_default_graph is deprecated. Please use tf.compat.v1.get_default_graph instead.\n",
            "\n"
          ]
        }
      ],
      "source": [
        "# Create the Sequential model instance\n",
        "nn_model = tf.keras.models.Sequential()\n",
        "\n",
        "# Add the first hidden layer\n",
        "nn_model.add( tf.keras.layers.Dense(units=Nodes_hidden_layer_1, input_dim=input_nodes, activation=\"relu\") )\n",
        "\n",
        "# Add the second hidden layer\n",
        "nn_model.add(tf.keras.layers.Dense(units=Nodes_hidden_layer_2, activation=\"relu\"))\n",
        "\n",
        "# Add the output layer to the model specifying the number of output neurons and activation function\n",
        "nn_model.add(tf.keras.layers.Dense(units=Output_nodes, activation=\"sigmoid\"))\n",
        "\n",
        "# Arnab's Comments: Please note that the number of Hidden Layers and the number of Neurons in each Hidden Layer are hyperparameters that can be tuned to improve the model's performance."
      ]
    },
    {
      "cell_type": "code",
      "execution_count": 12,
      "metadata": {
        "colab": {
          "base_uri": "https://localhost:8080/"
        },
        "id": "-Beoh4f_6q61",
        "outputId": "2e50f810-086b-4d89-bf7d-98afbe0d649d"
      },
      "outputs": [
        {
          "name": "stdout",
          "output_type": "stream",
          "text": [
            "Model: \"sequential\"\n",
            "_________________________________________________________________\n",
            " Layer (type)                Output Shape              Param #   \n",
            "=================================================================\n",
            " dense (Dense)               (None, 6)                 72        \n",
            "                                                                 \n",
            " dense_1 (Dense)             (None, 3)                 21        \n",
            "                                                                 \n",
            " dense_2 (Dense)             (None, 1)                 4         \n",
            "                                                                 \n",
            "=================================================================\n",
            "Total params: 97 (388.00 Byte)\n",
            "Trainable params: 97 (388.00 Byte)\n",
            "Non-trainable params: 0 (0.00 Byte)\n",
            "_________________________________________________________________\n"
          ]
        }
      ],
      "source": [
        "# Display the Sequential model summary\n",
        "nn_model.summary()\n"
      ]
    },
    {
      "cell_type": "markdown",
      "metadata": {
        "id": "nRqWGIRo6q61"
      },
      "source": [
        "### Step 2: Compile and fit the model using the `binary_crossentropy` loss function, the `adam` optimizer, and the `accuracy` evaluation metric.\n"
      ]
    },
    {
      "cell_type": "code",
      "execution_count": 13,
      "metadata": {
        "id": "E-hZaeSn6q61"
      },
      "outputs": [
        {
          "name": "stdout",
          "output_type": "stream",
          "text": [
            "WARNING:tensorflow:From c:\\Users\\arnab\\anaconda3\\Lib\\site-packages\\keras\\src\\optimizers\\__init__.py:309: The name tf.train.Optimizer is deprecated. Please use tf.compat.v1.train.Optimizer instead.\n",
            "\n"
          ]
        }
      ],
      "source": [
        "# Compile the Sequential model\n",
        "nn_model.compile(loss=\"binary_crossentropy\", optimizer=\"adam\", metrics=[\"accuracy\"])\n"
      ]
    },
    {
      "cell_type": "code",
      "execution_count": 14,
      "metadata": {
        "colab": {
          "base_uri": "https://localhost:8080/"
        },
        "id": "x25e8Idc6q61",
        "outputId": "e95946ba-23da-47a3-a1c1-5e9a2a484a47"
      },
      "outputs": [
        {
          "name": "stdout",
          "output_type": "stream",
          "text": [
            "Epoch 1/50\n",
            "WARNING:tensorflow:From c:\\Users\\arnab\\anaconda3\\Lib\\site-packages\\keras\\src\\utils\\tf_utils.py:492: The name tf.ragged.RaggedTensorValue is deprecated. Please use tf.compat.v1.ragged.RaggedTensorValue instead.\n",
            "\n",
            "WARNING:tensorflow:From c:\\Users\\arnab\\anaconda3\\Lib\\site-packages\\keras\\src\\engine\\base_layer_utils.py:384: The name tf.executing_eagerly_outside_functions is deprecated. Please use tf.compat.v1.executing_eagerly_outside_functions instead.\n",
            "\n",
            "38/38 [==============================] - 1s 2ms/step - loss: 0.6848 - accuracy: 0.5596\n",
            "Epoch 2/50\n",
            "38/38 [==============================] - 0s 1ms/step - loss: 0.6662 - accuracy: 0.6063\n",
            "Epoch 3/50\n",
            "38/38 [==============================] - 0s 2ms/step - loss: 0.6479 - accuracy: 0.6430\n",
            "Epoch 4/50\n",
            "38/38 [==============================] - 0s 1ms/step - loss: 0.6282 - accuracy: 0.6555\n",
            "Epoch 5/50\n",
            "38/38 [==============================] - 0s 1ms/step - loss: 0.6085 - accuracy: 0.6664\n",
            "Epoch 6/50\n",
            "38/38 [==============================] - 0s 1ms/step - loss: 0.5905 - accuracy: 0.6639\n",
            "Epoch 7/50\n",
            "38/38 [==============================] - 0s 1ms/step - loss: 0.5761 - accuracy: 0.6931\n",
            "Epoch 8/50\n",
            "38/38 [==============================] - 0s 3ms/step - loss: 0.5638 - accuracy: 0.7031\n",
            "Epoch 9/50\n",
            "38/38 [==============================] - 0s 2ms/step - loss: 0.5554 - accuracy: 0.7139\n",
            "Epoch 10/50\n",
            "38/38 [==============================] - 0s 1ms/step - loss: 0.5484 - accuracy: 0.7206\n",
            "Epoch 11/50\n",
            "38/38 [==============================] - 0s 1ms/step - loss: 0.5430 - accuracy: 0.7264\n",
            "Epoch 12/50\n",
            "38/38 [==============================] - 0s 1ms/step - loss: 0.5390 - accuracy: 0.7331\n",
            "Epoch 13/50\n",
            "38/38 [==============================] - 0s 1ms/step - loss: 0.5355 - accuracy: 0.7331\n",
            "Epoch 14/50\n",
            "38/38 [==============================] - 0s 1ms/step - loss: 0.5328 - accuracy: 0.7348\n",
            "Epoch 15/50\n",
            "38/38 [==============================] - 0s 1ms/step - loss: 0.5309 - accuracy: 0.7398\n",
            "Epoch 16/50\n",
            "38/38 [==============================] - 0s 1ms/step - loss: 0.5291 - accuracy: 0.7456\n",
            "Epoch 17/50\n",
            "38/38 [==============================] - 0s 2ms/step - loss: 0.5275 - accuracy: 0.7465\n",
            "Epoch 18/50\n",
            "38/38 [==============================] - 0s 1ms/step - loss: 0.5262 - accuracy: 0.7456\n",
            "Epoch 19/50\n",
            "38/38 [==============================] - 0s 1ms/step - loss: 0.5246 - accuracy: 0.7506\n",
            "Epoch 20/50\n",
            "38/38 [==============================] - 0s 1ms/step - loss: 0.5236 - accuracy: 0.7523\n",
            "Epoch 21/50\n",
            "38/38 [==============================] - 0s 1ms/step - loss: 0.5225 - accuracy: 0.7548\n",
            "Epoch 22/50\n",
            "38/38 [==============================] - 0s 1ms/step - loss: 0.5216 - accuracy: 0.7556\n",
            "Epoch 23/50\n",
            "38/38 [==============================] - 0s 1ms/step - loss: 0.5208 - accuracy: 0.7556\n",
            "Epoch 24/50\n",
            "38/38 [==============================] - 0s 1ms/step - loss: 0.5199 - accuracy: 0.7573\n",
            "Epoch 25/50\n",
            "38/38 [==============================] - 0s 1ms/step - loss: 0.5193 - accuracy: 0.7581\n",
            "Epoch 26/50\n",
            "38/38 [==============================] - 0s 1ms/step - loss: 0.5189 - accuracy: 0.7556\n",
            "Epoch 27/50\n",
            "38/38 [==============================] - 0s 1ms/step - loss: 0.5182 - accuracy: 0.7565\n",
            "Epoch 28/50\n",
            "38/38 [==============================] - 0s 1ms/step - loss: 0.5173 - accuracy: 0.7556\n",
            "Epoch 29/50\n",
            "38/38 [==============================] - 0s 1ms/step - loss: 0.5174 - accuracy: 0.7540\n",
            "Epoch 30/50\n",
            "38/38 [==============================] - 0s 1ms/step - loss: 0.5166 - accuracy: 0.7531\n",
            "Epoch 31/50\n",
            "38/38 [==============================] - 0s 1ms/step - loss: 0.5160 - accuracy: 0.7548\n",
            "Epoch 32/50\n",
            "38/38 [==============================] - 0s 1ms/step - loss: 0.5157 - accuracy: 0.7540\n",
            "Epoch 33/50\n",
            "38/38 [==============================] - 0s 3ms/step - loss: 0.5154 - accuracy: 0.7523\n",
            "Epoch 34/50\n",
            "38/38 [==============================] - 0s 2ms/step - loss: 0.5150 - accuracy: 0.7565\n",
            "Epoch 35/50\n",
            "38/38 [==============================] - 0s 2ms/step - loss: 0.5150 - accuracy: 0.7540\n",
            "Epoch 36/50\n",
            "38/38 [==============================] - 0s 1ms/step - loss: 0.5144 - accuracy: 0.7531\n",
            "Epoch 37/50\n",
            "38/38 [==============================] - 0s 2ms/step - loss: 0.5141 - accuracy: 0.7565\n",
            "Epoch 38/50\n",
            "38/38 [==============================] - 0s 1ms/step - loss: 0.5137 - accuracy: 0.7565\n",
            "Epoch 39/50\n",
            "38/38 [==============================] - 0s 2ms/step - loss: 0.5136 - accuracy: 0.7556\n",
            "Epoch 40/50\n",
            "38/38 [==============================] - 0s 2ms/step - loss: 0.5131 - accuracy: 0.7573\n",
            "Epoch 41/50\n",
            "38/38 [==============================] - 0s 1ms/step - loss: 0.5127 - accuracy: 0.7565\n",
            "Epoch 42/50\n",
            "38/38 [==============================] - 0s 1ms/step - loss: 0.5133 - accuracy: 0.7590\n",
            "Epoch 43/50\n",
            "38/38 [==============================] - 0s 1ms/step - loss: 0.5125 - accuracy: 0.7556\n",
            "Epoch 44/50\n",
            "38/38 [==============================] - 0s 1ms/step - loss: 0.5123 - accuracy: 0.7565\n",
            "Epoch 45/50\n",
            "38/38 [==============================] - 0s 1ms/step - loss: 0.5119 - accuracy: 0.7531\n",
            "Epoch 46/50\n",
            "38/38 [==============================] - 0s 2ms/step - loss: 0.5114 - accuracy: 0.7548\n",
            "Epoch 47/50\n",
            "38/38 [==============================] - 0s 2ms/step - loss: 0.5109 - accuracy: 0.7548\n",
            "Epoch 48/50\n",
            "38/38 [==============================] - 0s 3ms/step - loss: 0.5107 - accuracy: 0.7565\n",
            "Epoch 49/50\n",
            "38/38 [==============================] - 0s 2ms/step - loss: 0.5108 - accuracy: 0.7540\n",
            "Epoch 50/50\n",
            "38/38 [==============================] - 0s 2ms/step - loss: 0.5100 - accuracy: 0.7556\n"
          ]
        }
      ],
      "source": [
        "# Fit the model using 50 epochs and the training data\n",
        "fit_model = nn_model.fit(X_train_scaled,y_train,epochs=50)\n"
      ]
    },
    {
      "cell_type": "markdown",
      "metadata": {
        "id": "RfHMPZVI6q61"
      },
      "source": [
        "### Step 3: Evaluate the model using the test data to determine the model’s loss and accuracy.\n"
      ]
    },
    {
      "cell_type": "code",
      "execution_count": 24,
      "metadata": {
        "colab": {
          "base_uri": "https://localhost:8080/"
        },
        "id": "5hfVADKo6q61",
        "outputId": "7df473ad-3301-4b49-e5c3-16e1687cc1cf"
      },
      "outputs": [
        {
          "name": "stdout",
          "output_type": "stream",
          "text": [
            "13/13 - 0s - loss: 0.5040 - accuracy: 0.7500 - 132ms/epoch - 10ms/step\n",
            "Model Loss: 0.50403, Model Accuracy: 0.75000\n"
          ]
        }
      ],
      "source": [
        "# Evaluate the model loss and accuracy metrics using the evaluate method and the test data\n",
        "model_loss, model_accuracy = nn_model.evaluate(X_test_scaled,y_test,verbose=2)\n",
        "\n",
        "# Display the model loss and accuracy results\n",
        "print(f\"Model Loss: {model_loss:.5f}, Model Accuracy: {model_accuracy:.5f}\")\n"
      ]
    },
    {
      "cell_type": "markdown",
      "metadata": {},
      "source": [
        "Let us tune the model using Keras Hyperband Tuner to see if we can get better results."
      ]
    },
    {
      "cell_type": "code",
      "execution_count": 16,
      "metadata": {},
      "outputs": [],
      "source": [
        "# Arnab's Comments: We have added a new cell to imlement the Hyperparameter Tuning using Keras Tuner. \n",
        "# We will use the Hyperband algorithm to tune the hyperparameters of the model.\n",
        "# We have created a method that creates a Sequential model with hyperparameter options\n",
        "\n",
        "def build_model(hp):\n",
        "    nn_model_tuned = tf.keras.models.Sequential()\n",
        "\n",
        "    # Allow kerastuner to decide number of neurons in first hidden layer with activation function as relu\n",
        "    nn_model_tuned.add(tf.keras.layers.Dense(\n",
        "                                             units=hp.Int('first_units', min_value=1, max_value=200,step=2), \n",
        "                                             activation='relu', \n",
        "                                             input_dim=len(X.columns)\n",
        "                                             )\n",
        "                       )\n",
        "    \n",
        "    # Allow keras tuner to decide which activation function to use in hidden layers\n",
        "    successive_activation = hp.Choice('activation',['relu', 'tanh', 'softmax', 'leaky_relu', 'elu', 'swish'])\n",
        "\n",
        "    # Allow kerastuner to decide number of hidden layers and neurons in the successive hidden layers\n",
        "    for i in range(hp.Int('num_layers', 1, 3)):\n",
        "        nn_model_tuned.add(\n",
        "                            tf.keras.layers.Dense\n",
        "                                (\n",
        "                                    units=hp.Int('units_' + str(i), min_value=1, max_value=200, step=2),\n",
        "                                    activation=successive_activation\n",
        "                                 )\n",
        "                           )\n",
        "\n",
        "    # Add the output layer to the model specifying single output neuron and sigmoid activation function\n",
        "    nn_model_tuned.add(tf.keras.layers.Dense(units=1, activation=\"sigmoid\"))\n",
        "\n",
        "    # Compile the model\n",
        "    nn_model_tuned.compile(loss=\"binary_crossentropy\", optimizer='adam', metrics=[\"accuracy\"])\n",
        "\n",
        "    return nn_model_tuned"
      ]
    },
    {
      "cell_type": "code",
      "execution_count": 17,
      "metadata": {},
      "outputs": [],
      "source": [
        "# Import the kerastuner library\n",
        "import keras_tuner as kt\n",
        "\n",
        "tuner = kt.Hyperband(\n",
        "    build_model,\n",
        "    objective=\"val_accuracy\",\n",
        "    max_epochs=50,\n",
        "    directory='keras_tuner_demo',\n",
        "    project_name='keras_tuning'\n",
        "    )"
      ]
    },
    {
      "cell_type": "code",
      "execution_count": 18,
      "metadata": {},
      "outputs": [
        {
          "name": "stdout",
          "output_type": "stream",
          "text": [
            "Trial 90 Complete [00h 00m 08s]\n",
            "val_accuracy: 0.7400000095367432\n",
            "\n",
            "Best val_accuracy So Far: 0.7774999737739563\n",
            "Total elapsed time: 00h 05m 03s\n"
          ]
        }
      ],
      "source": [
        "# Run tuner.search\n",
        "tuner.search(X_train_scaled, y_train, epochs=50, validation_data=(X_test_scaled,y_test), validation_split=0.2, batch_size=32 )\n"
      ]
    },
    {
      "cell_type": "markdown",
      "metadata": {},
      "source": [
        "Review and Retrieve the Best Model"
      ]
    },
    {
      "cell_type": "code",
      "execution_count": 25,
      "metadata": {},
      "outputs": [
        {
          "name": "stdout",
          "output_type": "stream",
          "text": [
            "{'first_units': 159, 'activation': 'softmax', 'num_layers': 2, 'units_0': 15, 'units_1': 81, 'units_2': 195, 'tuner/epochs': 50, 'tuner/initial_epoch': 0, 'tuner/bracket': 0, 'tuner/round': 0}\n",
            "13/13 - 0s - loss: 0.5490 - accuracy: 0.7775 - 238ms/epoch - 18ms/step\n",
            "Model Loss: 0.54898, Model Accuracy: 0.77750\n"
          ]
        }
      ],
      "source": [
        "# printing the top model parameters\n",
        "best_hps = tuner.get_best_hyperparameters()\n",
        "print(best_hps[0].values)\n",
        "\n",
        "# Get the best model    \n",
        "best_model = tuner.get_best_models()[0]\n",
        "\n",
        "# Evaluate the Model Loss & Accuracy for the best model\n",
        "model_loss, model_accuracy = best_model.evaluate(X_test_scaled,y_test,verbose=2)\n",
        "print(f\"Model Loss: {model_loss:.5f}, Model Accuracy: {model_accuracy:.5f}\")"
      ]
    },
    {
      "cell_type": "markdown",
      "metadata": {
        "id": "jpAv0rXA6q61"
      },
      "source": [
        "### Step 4: Save and export your model to a keras file, and name the file `student_loans.keras`.\n"
      ]
    },
    {
      "cell_type": "code",
      "execution_count": 26,
      "metadata": {
        "id": "q0MetN0W6q61"
      },
      "outputs": [],
      "source": [
        "# Set the model's file path\n",
        "model_path = \"Saved_Model/student_loan.keras\"\n",
        "\n",
        "\n",
        "# Export your model to a keras file\n",
        "best_model.save(model_path)\n"
      ]
    },
    {
      "cell_type": "markdown",
      "metadata": {
        "id": "R1opCDdN6q61"
      },
      "source": [
        "---\n",
        "## Predict Loan Repayment Success by Using your Neural Network Model"
      ]
    },
    {
      "cell_type": "markdown",
      "metadata": {
        "id": "TfIfpeiy6q61"
      },
      "source": [
        "### Step 1: Reload your saved model."
      ]
    },
    {
      "cell_type": "code",
      "execution_count": 28,
      "metadata": {},
      "outputs": [],
      "source": [
        "# Set the model's file path\n",
        "file_path = Path(\"Saved_Model/student_loan.keras\")\n",
        "\n",
        "# Load the model to a new object\n",
        "nn_imported = tf.keras.models.load_model(file_path)"
      ]
    },
    {
      "cell_type": "markdown",
      "metadata": {
        "id": "rTPKooGw6q61"
      },
      "source": [
        "### Step 2: Make predictions on the testing data and save the predictions to a DataFrame."
      ]
    },
    {
      "cell_type": "code",
      "execution_count": 34,
      "metadata": {
        "colab": {
          "base_uri": "https://localhost:8080/"
        },
        "id": "Vet7qjgx6q62",
        "outputId": "0925af42-7e12-4978-8396-2a2c1580e1eb"
      },
      "outputs": [
        {
          "name": "stdout",
          "output_type": "stream",
          "text": [
            " 1/13 [=>............................] - ETA: 0s"
          ]
        },
        {
          "name": "stdout",
          "output_type": "stream",
          "text": [
            "13/13 [==============================] - 0s 2ms/step\n",
            "[[0.34960866]\n",
            " [0.3354806 ]\n",
            " [0.73026484]\n",
            " [0.7043443 ]\n",
            " [0.7302864 ]]\n"
          ]
        }
      ],
      "source": [
        "# Make predictions with the test data\n",
        "predictions = nn_imported.predict(X_test_scaled)\n",
        "\n",
        "# Display a sample of the predictions\n",
        "print(predictions[:5])"
      ]
    },
    {
      "cell_type": "code",
      "execution_count": 37,
      "metadata": {
        "colab": {
          "base_uri": "https://localhost:8080/",
          "height": 424
        },
        "id": "87o8exFPhjfl",
        "outputId": "da5339c5-cea7-43e4-ec22-e168ea16dfa2"
      },
      "outputs": [
        {
          "data": {
            "text/html": [
              "<div>\n",
              "<style scoped>\n",
              "    .dataframe tbody tr th:only-of-type {\n",
              "        vertical-align: middle;\n",
              "    }\n",
              "\n",
              "    .dataframe tbody tr th {\n",
              "        vertical-align: top;\n",
              "    }\n",
              "\n",
              "    .dataframe thead th {\n",
              "        text-align: right;\n",
              "    }\n",
              "</style>\n",
              "<table border=\"1\" class=\"dataframe\">\n",
              "  <thead>\n",
              "    <tr style=\"text-align: right;\">\n",
              "      <th></th>\n",
              "      <th>credit_ranking_prediction</th>\n",
              "    </tr>\n",
              "  </thead>\n",
              "  <tbody>\n",
              "    <tr>\n",
              "      <th>0</th>\n",
              "      <td>0.0</td>\n",
              "    </tr>\n",
              "    <tr>\n",
              "      <th>1</th>\n",
              "      <td>0.0</td>\n",
              "    </tr>\n",
              "    <tr>\n",
              "      <th>2</th>\n",
              "      <td>1.0</td>\n",
              "    </tr>\n",
              "    <tr>\n",
              "      <th>3</th>\n",
              "      <td>1.0</td>\n",
              "    </tr>\n",
              "    <tr>\n",
              "      <th>4</th>\n",
              "      <td>1.0</td>\n",
              "    </tr>\n",
              "  </tbody>\n",
              "</table>\n",
              "</div>"
            ],
            "text/plain": [
              "   credit_ranking_prediction\n",
              "0                        0.0\n",
              "1                        0.0\n",
              "2                        1.0\n",
              "3                        1.0\n",
              "4                        1.0"
            ]
          },
          "execution_count": 37,
          "metadata": {},
          "output_type": "execute_result"
        }
      ],
      "source": [
        "# Save the predictions to a DataFrame\n",
        "predictions_df = pd.DataFrame(predictions, columns=['credit_ranking_prediction'])\n",
        "\n",
        "# Round the predictions to binary results\n",
        "predictions_df['credit_ranking_prediction'] = round(predictions_df['credit_ranking_prediction'], 0)\n",
        "predictions_df.head()"
      ]
    },
    {
      "cell_type": "markdown",
      "metadata": {
        "id": "oxxLwycg6q62"
      },
      "source": [
        "### Step 4: Display a classification report with the y test data and predictions"
      ]
    },
    {
      "cell_type": "code",
      "execution_count": 38,
      "metadata": {
        "colab": {
          "base_uri": "https://localhost:8080/"
        },
        "id": "UTxYZibW6q67",
        "outputId": "f341b396-9b4c-478c-dba8-f6d904ba10e3"
      },
      "outputs": [
        {
          "name": "stdout",
          "output_type": "stream",
          "text": [
            "              precision    recall  f1-score   support\n",
            "\n",
            "           0       0.74      0.81      0.77       188\n",
            "           1       0.82      0.75      0.78       212\n",
            "\n",
            "    accuracy                           0.78       400\n",
            "   macro avg       0.78      0.78      0.78       400\n",
            "weighted avg       0.78      0.78      0.78       400\n",
            "\n"
          ]
        }
      ],
      "source": [
        "# Print the classification report with the y test data and predictions\n",
        "print(classification_report(y_test, predictions_df))"
      ]
    },
    {
      "cell_type": "markdown",
      "metadata": {
        "id": "8Aaof1tBtcp6"
      },
      "source": [
        "---\n",
        "## Discuss creating a recommendation system for student loans"
      ]
    },
    {
      "cell_type": "markdown",
      "metadata": {
        "id": "_CC8cNpNtcp6"
      },
      "source": [
        "Briefly answer the following questions in the space provided:\n",
        "\n",
        "1. Describe the data that you would need to collect to build a recommendation system to recommend student loan options for students. Explain why this data would be relevant and appropriate.\n",
        "\n",
        "2. Based on the data you chose to use in this recommendation system, would your model be using collaborative filtering, content-based filtering, or context-based filtering? Justify why the data you selected would be suitable for your choice of filtering method.\n",
        "\n",
        "3. Describe two real-world challenges that you would take into consideration while building a recommendation system for student loans. Explain why these challenges would be of concern for a student loan recommendation system."
      ]
    },
    {
      "cell_type": "markdown",
      "metadata": {
        "id": "5KqIT8kYtcp6"
      },
      "source": [
        "**1. Describe the data that you would need to collect to build a recommendation system to recommend student loan options for students. Explain why this data would be relevant and appropriate.**\n",
        "\n",
        "Answer: I think we should try to get the credit history of the student(If Available) like Credit score, Existing credit accounts or loans, History of payments. Because having this piece of information impacts the eligibility and terms of private loans. We can get an idea about the student's borrowing history and repayment behavior & student's creditworthiness. We can also get the student's academic performance, the field of study, and the institution they are studying in. This information can help us to understand the student's future earning potential and the likelihood of repaying the loan, Some loan programs are tailored to specific fields of study. We can also get the student's PII data like Name, age, gender, contact information - this is for validation and identification of the student, determine eligibility for certain loan programs and legal agreements, and contact information for necessary communication and follow-ups. Finally student's financial information like Individual Income, household income, employment status, and financial assets - this information can help us to understand the student's ability to repay the loan and determine the loan amount and terms.\n",
        "\n",
        "\n",
        "**2. Based on the data you chose to use in this recommendation system, would your model be using collaborative filtering, content-based filtering, or context-based filtering? Justify why the data you selected would be suitable for your choice of filtering method.**\n",
        "\n",
        "Answer: I would use content-based filtering because we have the student's credit history, academic performance, field of study, and institution they are studying in. Content-based filtering. Content-based filtering is suitable for providing personalized recommendations that match user preferences and interests. Here it mtaches the use case to validate the profile of the student, preferences to recommend items that are similar to ones if the user has any loan in the past. We can recommend student loans based on the student's credit history, academic performance, field of study, and institution they are studying in.\n",
        "\n",
        "\n",
        "**3. Describe two real-world challenges that you would take into consideration while building a recommendation system for student loans. Explain why these challenges would be of concern for a student loan recommendation system.**\n",
        "\n",
        "Answer: Two real-world challenges to consider when building a recommendation system for student loans could be:\n",
        "1. Data Privacy and Security: Our data requirement recommends collecting sensitive information like PII data, credit history, academic performance, and financial information. Students may be hesitant to share sensitive financial details with the recommendation system due to concerns about data privacy and security. A breach of this information could lead to identity theft, financial fraud, or other consequences for the student. Once we have this data, we must ensure that the data is stored securely and that access to the data is restricted to only those who need it. We must also ensure that the data is anonymized and that the privacy of the students is protected.\n",
        "\n",
        "2. Bias and Fairness: Another challenge is ensuring that the recommendation system is free from bias and provides fair recommendations to all students. Bias can occur in the data used to train the recommendation system, leading to unfair recommendations that favor certain groups of students over others. For example, if the recommendation system is trained on data that is biased against students from certain demographic groups, it may provide recommendations that are unfair to those students."
      ]
    }
  ],
  "metadata": {
    "colab": {
      "provenance": []
    },
    "kernelspec": {
      "display_name": "Python 3 (ipykernel)",
      "language": "python",
      "name": "python3"
    },
    "language_info": {
      "codemirror_mode": {
        "name": "ipython",
        "version": 3
      },
      "file_extension": ".py",
      "mimetype": "text/x-python",
      "name": "python",
      "nbconvert_exporter": "python",
      "pygments_lexer": "ipython3",
      "version": "3.11.5"
    }
  },
  "nbformat": 4,
  "nbformat_minor": 0
}
